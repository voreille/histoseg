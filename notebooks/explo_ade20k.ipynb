{
 "cells": [
  {
   "cell_type": "code",
   "execution_count": null,
   "id": "f3a24c37",
   "metadata": {},
   "outputs": [],
   "source": [
    "from pathlib import Path\n",
    "from PIL import Image\n",
    "import numpy as np\n",
    "import matplotlib.pyplot as plt"
   ]
  },
  {
   "cell_type": "code",
   "execution_count": null,
   "id": "05b16c1c",
   "metadata": {},
   "outputs": [],
   "source": [
    "image_id = \"ADE_train_00000592\"\n",
    "image_path = f\"/home/valentin/workspaces/histoseg/data/ADEChallengeData2016/images/training/{image_id}.jpg\"\n",
    "annotation_path = f\"/home/valentin/workspaces/histoseg/data/ADEChallengeData2016/annotations/training/{image_id}.png\""
   ]
  },
  {
   "cell_type": "code",
   "execution_count": null,
   "id": "c447112a",
   "metadata": {},
   "outputs": [],
   "source": [
    "image = Image.open(image_path).convert(\"RGB\")\n",
    "annotation = Image.open(annotation_path)\n",
    "instance_seg = np.array(annotation)\n",
    "# instance_seg = np.array(annotation)[:, :, 1]  # green channel encodes instances\n",
    "# class_id_map = np.array(annotation)[:, :, 0]  # red channel encodes semantic cat\n",
    "# class_labels = np.unique(class_id_map)"
   ]
  },
  {
   "cell_type": "code",
   "execution_count": 4,
   "id": "820892a6",
   "metadata": {},
   "outputs": [],
   "source": [
    "image"
   ]
  },
  {
   "cell_type": "code",
   "execution_count": 5,
   "id": "3262c955",
   "metadata": {},
   "outputs": [],
   "source": [
    "annotation"
   ]
  },
  {
   "cell_type": "code",
   "execution_count": 6,
   "id": "cac9bd16",
   "metadata": {},
   "outputs": [],
   "source": [
    "plt.imshow(np.array(annotation)[:,:,1], cmap='gray')"
   ]
  },
  {
   "cell_type": "code",
   "execution_count": null,
   "id": "c13f382a",
   "metadata": {},
   "outputs": [],
   "source": [
    "instance_seg.shape"
   ]
  },
  {
   "cell_type": "code",
   "execution_count": null,
   "id": "67db9403",
   "metadata": {},
   "outputs": [],
   "source": []
  }
 ],
 "metadata": {
  "kernelspec": {
   "display_name": "histoseg",
   "language": "python",
   "name": "python3"
  },
  "language_info": {
   "codemirror_mode": {
    "name": "ipython",
    "version": 3
   },
   "file_extension": ".py",
   "mimetype": "text/x-python",
   "name": "python",
   "nbconvert_exporter": "python",
   "pygments_lexer": "ipython3",
   "version": "3.12.11"
  }
 },
 "nbformat": 4,
 "nbformat_minor": 5
}
