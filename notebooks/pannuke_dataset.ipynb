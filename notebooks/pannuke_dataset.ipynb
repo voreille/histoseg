{
 "cells": [
  {
   "cell_type": "code",
   "execution_count": null,
   "id": "dc871d7e",
   "metadata": {},
   "outputs": [],
   "source": [
    "from datasets import load_dataset\n",
    "import numpy as np\n"
   ]
  },
  {
   "cell_type": "code",
   "execution_count": null,
   "id": "1e2e22be",
   "metadata": {},
   "outputs": [],
   "source": [
    "\n",
    "# ds = load_dataset(\"RationAI/PanNuke\", cache_dir=\"/home/val/workspaces/histoseg/data/pannuke\")\n",
    "ds = load_dataset(\"RationAI/PanNuke\")"
   ]
  },
  {
   "cell_type": "code",
   "execution_count": null,
   "id": "ccb8e104",
   "metadata": {},
   "outputs": [],
   "source": [
    "type(ds[\"fold1\"])"
   ]
  },
  {
   "cell_type": "code",
   "execution_count": null,
   "id": "ef8debc2",
   "metadata": {},
   "outputs": [],
   "source": [
    "type(ds)"
   ]
  },
  {
   "cell_type": "code",
   "execution_count": null,
   "id": "a75972b6",
   "metadata": {},
   "outputs": [],
   "source": [
    "mask = np.array(ds[\"fold1\"][0][\"instances\"][0])"
   ]
  },
  {
   "cell_type": "code",
   "execution_count": null,
   "id": "16c3b46a",
   "metadata": {},
   "outputs": [],
   "source": [
    "mask.dtype"
   ]
  },
  {
   "cell_type": "code",
   "execution_count": null,
   "id": "a27f0a05",
   "metadata": {},
   "outputs": [],
   "source": []
  }
 ],
 "metadata": {
  "kernelspec": {
   "display_name": "torch",
   "language": "python",
   "name": "python3"
  },
  "language_info": {
   "codemirror_mode": {
    "name": "ipython",
    "version": 3
   },
   "file_extension": ".py",
   "mimetype": "text/x-python",
   "name": "python",
   "nbconvert_exporter": "python",
   "pygments_lexer": "ipython3",
   "version": "3.12.2"
  }
 },
 "nbformat": 4,
 "nbformat_minor": 5
}
